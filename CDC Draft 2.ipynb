{
 "cells": [
  {
   "cell_type": "code",
   "execution_count": 55,
   "id": "66dd29f1-24ce-4065-999f-3136c1f31a71",
   "metadata": {},
   "outputs": [
    {
     "data": {
      "text/html": [
       "<table border=\"1\" class=\"dataframe\">\n",
       "    <thead>\n",
       "        <tr>\n",
       "            <th>candidatevotes</th> <th>county</th> <th>party</th> <th>totalvotes</th>\n",
       "        </tr>\n",
       "    </thead>\n",
       "    <tbody>\n",
       "        <tr>\n",
       "            <td>4306          </td> <td>ABBEVILLE, SC</td> <td>REPUBLICAN</td> <td>12433     </td>\n",
       "        </tr>\n",
       "        <tr>\n",
       "            <td>22596         </td> <td>ACADIA, LA   </td> <td>REPUBLICAN</td> <td>28425     </td>\n",
       "        </tr>\n",
       "        <tr>\n",
       "            <td>6078          </td> <td>ACCOMACK, VA </td> <td>REPUBLICAN</td> <td>16962     </td>\n",
       "        </tr>\n",
       "        <tr>\n",
       "            <td>130699        </td> <td>ADA, ID      </td> <td>REPUBLICAN</td> <td>259389    </td>\n",
       "        </tr>\n",
       "        <tr>\n",
       "            <td>1717          </td> <td>ADAIR, IA    </td> <td>REPUBLICAN</td> <td>4177      </td>\n",
       "        </tr>\n",
       "        <tr>\n",
       "            <td>7276          </td> <td>ADAIR, KY    </td> <td>REPUBLICAN</td> <td>8763      </td>\n",
       "        </tr>\n",
       "        <tr>\n",
       "            <td>6413          </td> <td>ADAIR, MO    </td> <td>REPUBLICAN</td> <td>10336     </td>\n",
       "        </tr>\n",
       "        <tr>\n",
       "            <td>4722          </td> <td>ADAIR, OK    </td> <td>REPUBLICAN</td> <td>7108      </td>\n",
       "        </tr>\n",
       "        <tr>\n",
       "            <td>134202        </td> <td>ADAMS, CO    </td> <td>DEMOCRAT  </td> <td>236740    </td>\n",
       "        </tr>\n",
       "        <tr>\n",
       "            <td>781           </td> <td>ADAMS, IA    </td> <td>REPUBLICAN</td> <td>2160      </td>\n",
       "        </tr>\n",
       "    </tbody>\n",
       "</table>\n",
       "<p>... (3145 rows omitted)</p>"
      ],
      "text/plain": [
       "candidatevotes | county        | party      | totalvotes\n",
       "4306           | ABBEVILLE, SC | REPUBLICAN | 12433\n",
       "22596          | ACADIA, LA    | REPUBLICAN | 28425\n",
       "6078           | ACCOMACK, VA  | REPUBLICAN | 16962\n",
       "130699         | ADA, ID       | REPUBLICAN | 259389\n",
       "1717           | ADAIR, IA     | REPUBLICAN | 4177\n",
       "7276           | ADAIR, KY     | REPUBLICAN | 8763\n",
       "6413           | ADAIR, MO     | REPUBLICAN | 10336\n",
       "4722           | ADAIR, OK     | REPUBLICAN | 7108\n",
       "134202         | ADAMS, CO     | DEMOCRAT   | 236740\n",
       "781            | ADAMS, IA     | REPUBLICAN | 2160\n",
       "... (3145 rows omitted)"
      ]
     },
     "execution_count": 55,
     "metadata": {},
     "output_type": "execute_result"
    }
   ],
   "source": [
    "from datascience import *\n",
    "from urllib.request import urlopen\n",
    "import numpy as np\n",
    "%matplotlib inline\n",
    "import pandas \n",
    "import matplotlib \n",
    "import matplotlib.pyplot as plots \n",
    "import matplotlib.pyplot as plt\n",
    "\n",
    "party_table_all_years = pandas.read_csv(\"countypres_2000-2020.csv\")\n",
    "party_table_all_years[\"county\"] = party_table_all_years[\"county_name\"] + \", \" + party_table_all_years[\"state_po\"]\n",
    "party_table_2020 = party_table_all_years[party_table_all_years[\"year\"].eq(2020)]\n",
    "party_table_final = party_table_2020[[\"candidatevotes\",\"county\",\"party\",\"totalvotes\"]]\n",
    "max_rows = party_table_final.groupby([\"county\"])[\"candidatevotes\"].transform(max) == party_table_final[\"candidatevotes\"]\n",
    "party_table = party_table_final[max_rows]\n",
    "party_table1 = Table.from_df(party_table)\n",
    "party_table1.sort(\"county\", descending = False)"
   ]
  },
  {
   "cell_type": "code",
   "execution_count": 65,
   "id": "b120901f-b9f4-4ea2-9f0f-65084f523fb1",
   "metadata": {},
   "outputs": [
    {
     "data": {
      "text/html": [
       "<table border=\"1\" class=\"dataframe\">\n",
       "    <thead>\n",
       "        <tr>\n",
       "            <th>COUNTY</th> <th>Total Emissions</th>\n",
       "        </tr>\n",
       "    </thead>\n",
       "    <tbody>\n",
       "        <tr>\n",
       "            <td>ACADIA, LA   </td> <td>2.7949e+06     </td>\n",
       "        </tr>\n",
       "        <tr>\n",
       "            <td>ACCOMACK , VA</td> <td>100640         </td>\n",
       "        </tr>\n",
       "        <tr>\n",
       "            <td>ACCOMACK, VA </td> <td>18905.3        </td>\n",
       "        </tr>\n",
       "        <tr>\n",
       "            <td>ADA , ID     </td> <td>191425         </td>\n",
       "        </tr>\n",
       "        <tr>\n",
       "            <td>ADAMS , CO   </td> <td>1.08817e+06    </td>\n",
       "        </tr>\n",
       "        <tr>\n",
       "            <td>ADAMS , IA   </td> <td>104120         </td>\n",
       "        </tr>\n",
       "        <tr>\n",
       "            <td>ADAMS , IL   </td> <td>104084         </td>\n",
       "        </tr>\n",
       "        <tr>\n",
       "            <td>ADAMS , IN   </td> <td>79021.8        </td>\n",
       "        </tr>\n",
       "        <tr>\n",
       "            <td>ADAMS , MS   </td> <td>80621.9        </td>\n",
       "        </tr>\n",
       "        <tr>\n",
       "            <td>ADAMS , NE   </td> <td>369253         </td>\n",
       "        </tr>\n",
       "    </tbody>\n",
       "</table>\n",
       "<p>... (2490 rows omitted)</p>"
      ],
      "text/plain": [
       "COUNTY        | Total Emissions\n",
       "ACADIA, LA    | 2.7949e+06\n",
       "ACCOMACK , VA | 100640\n",
       "ACCOMACK, VA  | 18905.3\n",
       "ADA , ID      | 191425\n",
       "ADAMS , CO    | 1.08817e+06\n",
       "ADAMS , IA    | 104120\n",
       "ADAMS , IL    | 104084\n",
       "ADAMS , IN    | 79021.8\n",
       "ADAMS , MS    | 80621.9\n",
       "ADAMS , NE    | 369253\n",
       "... (2490 rows omitted)"
      ]
     },
     "execution_count": 65,
     "metadata": {},
     "output_type": "execute_result"
    }
   ],
   "source": [
    "emission = Table.read_table(\"Direct Emitters.csv\")\n",
    "emission_columns = emission.select(\"State\",\"COUNTY\",\"Total reported direct emissions\")\n",
    "\n",
    "\n",
    "\"\"\"def remove_county(pay_string):\n",
    "    return (pay_string.strip(\"COUNTY\"))\n",
    "function_emission = emission_columns.apply(remove_county,\"COUNTY\")\n",
    "function_emission\n",
    "new_table = emission_columns.with_column(\"minus county\", function_emission)\n",
    "new_table\"\"\"\n",
    "\n",
    "emission_pandas = Table.to_df(emission_columns)\n",
    "emission_pandas[\"COUNTY\"] = emission_pandas[\"COUNTY\"].str.upper()\n",
    "emission_pandas[\"COUNTY\"] = emission_pandas[\"COUNTY\"].str.replace(\"COUNTY\",\"\")\n",
    "emission_pandas[\"COUNTY\"] = emission_pandas[\"COUNTY\"].str.replace(\" PARISH\",\"\")\n",
    "emission_pandas[\"Total reported direct emissions\"] = emission_pandas[\"Total reported direct emissions\"].str.replace(\",\",\"\")\n",
    "emission_pandas[\"COUNTY\"] = emission_pandas[\"COUNTY\"] + \", \" + emission_pandas[\"State\"]\n",
    "emission_pandas\n",
    "emission_numpy = Table.from_df(emission_pandas)\n",
    "emission_table_final = emission_numpy.drop(\"State\")\n",
    "total_emissions = make_array()\n",
    "def convert(string):\n",
    "    float2 = float(string)\n",
    "    return float2\n",
    "for i in np.arange(0,len(emission_table_final.column(\"Total reported direct emissions\"))):\n",
    "    total_emissions = np.append(total_emissions, convert(emission_table_final.column(\"Total reported direct emissions\").item(i)))\n",
    "final_emissions_table = emission_table_final.with_column(\n",
    "    \"Total Emissions\",total_emissions\n",
    "). drop(\"Total reported direct emissions\")\n",
    "final_emissions_table.sort(\"COUNTY\", descending = False)\n",
    "final_emissions_table = final_emissions_table.group(\"COUNTY\", np.sum).relabeled(\"Total Emissions sum\", \"Total Emissions\")\n",
    "final_emissions_table"
   ]
  },
  {
   "cell_type": "code",
   "execution_count": 66,
   "id": "e16bc49c-a17f-47d2-9cb6-6b378611a3e7",
   "metadata": {},
   "outputs": [
    {
     "data": {
      "text/html": [
       "<table border=\"1\" class=\"dataframe\">\n",
       "    <thead>\n",
       "        <tr>\n",
       "            <th>COUNTY</th> <th>Total Emissions</th> <th>candidatevotes</th> <th>party</th> <th>totalvotes</th> <th>Year</th>\n",
       "        </tr>\n",
       "    </thead>\n",
       "    <tbody>\n",
       "        <tr>\n",
       "            <td>ACADIA, LA         </td> <td>2.7949e+06     </td> <td>22596         </td> <td>REPUBLICAN</td> <td>28425     </td> <td>2020</td>\n",
       "        </tr>\n",
       "        <tr>\n",
       "            <td>ACCOMACK, VA       </td> <td>18905.3        </td> <td>6078          </td> <td>REPUBLICAN</td> <td>16962     </td> <td>2020</td>\n",
       "        </tr>\n",
       "        <tr>\n",
       "            <td>ADAMS, CO          </td> <td>2.0832e+06     </td> <td>134202        </td> <td>DEMOCRAT  </td> <td>236740    </td> <td>2020</td>\n",
       "        </tr>\n",
       "        <tr>\n",
       "            <td>ADAMS, NE          </td> <td>1.12036e+06    </td> <td>10085         </td> <td>REPUBLICAN</td> <td>14602     </td> <td>2020</td>\n",
       "        </tr>\n",
       "        <tr>\n",
       "            <td>ADAMS, PA          </td> <td>2.51474e+06    </td> <td>37523         </td> <td>REPUBLICAN</td> <td>56540     </td> <td>2020</td>\n",
       "        </tr>\n",
       "        <tr>\n",
       "            <td>AIKEN, SC          </td> <td>817324         </td> <td>27763         </td> <td>REPUBLICAN</td> <td>85185     </td> <td>2020</td>\n",
       "        </tr>\n",
       "        <tr>\n",
       "            <td>ALACHUA, FL        </td> <td>1.10912e+06    </td> <td>89704         </td> <td>DEMOCRAT  </td> <td>142604    </td> <td>2020</td>\n",
       "        </tr>\n",
       "        <tr>\n",
       "            <td>ALAMEDA, CA        </td> <td>429884         </td> <td>617659        </td> <td>DEMOCRAT  </td> <td>770070    </td> <td>2020</td>\n",
       "        </tr>\n",
       "        <tr>\n",
       "            <td>ALBANY, NY         </td> <td>2.01763e+06    </td> <td>99474         </td> <td>DEMOCRAT  </td> <td>154727    </td> <td>2020</td>\n",
       "        </tr>\n",
       "        <tr>\n",
       "            <td>ALEXANDRIA CITY, VA</td> <td>94252.7        </td> <td>55940         </td> <td>DEMOCRAT  </td> <td>82521     </td> <td>2020</td>\n",
       "        </tr>\n",
       "    </tbody>\n",
       "</table>\n",
       "<p>... (722 rows omitted)</p>"
      ],
      "text/plain": [
       "COUNTY              | Total Emissions | candidatevotes | party      | totalvotes | Year\n",
       "ACADIA, LA          | 2.7949e+06      | 22596          | REPUBLICAN | 28425      | 2020\n",
       "ACCOMACK, VA        | 18905.3         | 6078           | REPUBLICAN | 16962      | 2020\n",
       "ADAMS, CO           | 2.0832e+06      | 134202         | DEMOCRAT   | 236740     | 2020\n",
       "ADAMS, NE           | 1.12036e+06     | 10085          | REPUBLICAN | 14602      | 2020\n",
       "ADAMS, PA           | 2.51474e+06     | 37523          | REPUBLICAN | 56540      | 2020\n",
       "AIKEN, SC           | 817324          | 27763          | REPUBLICAN | 85185      | 2020\n",
       "ALACHUA, FL         | 1.10912e+06     | 89704          | DEMOCRAT   | 142604     | 2020\n",
       "ALAMEDA, CA         | 429884          | 617659         | DEMOCRAT   | 770070     | 2020\n",
       "ALBANY, NY          | 2.01763e+06     | 99474          | DEMOCRAT   | 154727     | 2020\n",
       "ALEXANDRIA CITY, VA | 94252.7         | 55940          | DEMOCRAT   | 82521      | 2020\n",
       "... (722 rows omitted)"
      ]
     },
     "execution_count": 66,
     "metadata": {},
     "output_type": "execute_result"
    }
   ],
   "source": [
    "emissions_party_table = final_emissions_table.join(\"COUNTY\",party_table1,\"county\")\n",
    "final_2020 = emissions_party_table.with_column(\"Year\", np.repeat(2020, emissions_party_table.num_rows))\n",
    "final_2020"
   ]
  },
  {
   "cell_type": "code",
   "execution_count": 58,
   "id": "a98d6bf5-6a1c-4342-a74d-fd47e744f7e4",
   "metadata": {},
   "outputs": [],
   "source": [
    "final_2020.to_df().to_csv('final_2020.csv', index = False)"
   ]
  },
  {
   "cell_type": "code",
   "execution_count": 71,
   "id": "88170e59-4900-464b-a773-d49a87a1ce10",
   "metadata": {},
   "outputs": [
    {
     "data": {
      "text/plain": [
       "Text(0.5, 1.0, 'Average Total Emissions Per County, Stratified by Political Party')"
      ]
     },
     "execution_count": 71,
     "metadata": {},
     "output_type": "execute_result"
    },
    {
     "data": {
      "image/png": "[encoded data removed]",
      "text/plain": [
       "<Figure size 432x288 with 1 Axes>"
      ]
     },
     "metadata": {
      "needs_background": "light"
     },
     "output_type": "display_data"
    }
   ],
   "source": [
    "emission_plot = emissions_party_table.select(\"party\",\"Total Emissions\").group(\"party\",np.average)\n",
    "emission_plot.barh(\"party\",\"Total Emissions average\")\n",
    "plots.title(\"Average Total Emissions Per County, Stratified by Political Party\")"
   ]
  },
  {
   "cell_type": "code",
   "execution_count": 70,
   "id": "d0b8d6ce-4714-4c5e-94c9-f471586a0be2",
   "metadata": {},
   "outputs": [
    {
     "data": {
      "image/png": "[encoded data removed]",
      "text/plain": [
       "<Figure size 648x504 with 1 Axes>"
      ]
     },
     "metadata": {
      "needs_background": "light"
     },
     "output_type": "display_data"
    }
   ],
   "source": [
    "plt.figure(figsize=(9,7))\n",
    "\n",
    "party = emission_plot.column(\"party\")\n",
    "emissions = emission_plot.column(\"Total Emissions average\")\n",
    "\n",
    "plt.bar(party, emissions, color=[\"blue\", \"red\"])\n",
    "plots.title(\"Average Total Emissions Per County, Stratified by Political Party\")\n",
    "\n",
    "plt.show()"
   ]
  },
  {
   "cell_type": "code",
   "execution_count": 73,
   "id": "ac4c1a19-3585-4aa1-b2af-0bd45d4eab0b",
   "metadata": {},
   "outputs": [
    {
     "data": {
      "text/html": [
       "<table border=\"1\" class=\"dataframe\">\n",
       "    <thead>\n",
       "        <tr>\n",
       "            <th>party</th> <th>Total Emissions average</th>\n",
       "        </tr>\n",
       "    </thead>\n",
       "    <tbody>\n",
       "        <tr>\n",
       "            <td>DEMOCRAT  </td> <td>1.73369e+06            </td>\n",
       "        </tr>\n",
       "        <tr>\n",
       "            <td>REPUBLICAN</td> <td>2.1175e+06             </td>\n",
       "        </tr>\n",
       "    </tbody>\n",
       "</table>"
      ],
      "text/plain": [
       "party      | Total Emissions average\n",
       "DEMOCRAT   | 1.73369e+06\n",
       "REPUBLICAN | 2.1175e+06"
      ]
     },
     "execution_count": 73,
     "metadata": {},
     "output_type": "execute_result"
    }
   ],
   "source": [
    "emission_plot"
   ]
  },
  {
   "cell_type": "code",
   "execution_count": null,
   "id": "846ef4c5-8db6-482c-9986-81c939eb4309",
   "metadata": {},
   "outputs": [],
   "source": []
  },
  {
   "cell_type": "code",
   "execution_count": null,
   "id": "398dc9ce-7c67-4045-ac48-d34514d220ca",
   "metadata": {},
   "outputs": [],
   "source": []
  }
 ],
 "metadata": {
  "kernelspec": {
   "display_name": "Python 3 (ipykernel)",
   "language": "python",
   "name": "python3"
  },
  "language_info": {
   "codemirror_mode": {
    "name": "ipython",
    "version": 3
   },
   "file_extension": ".py",
   "mimetype": "text/x-python",
   "name": "python",
   "nbconvert_exporter": "python",
   "pygments_lexer": "ipython3",
   "version": "3.9.7"
  }
 },
 "nbformat": 4,
 "nbformat_minor": 5
}
