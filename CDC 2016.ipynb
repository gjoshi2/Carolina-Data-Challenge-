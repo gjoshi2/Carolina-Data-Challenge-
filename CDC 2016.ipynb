{
 "cells": [
  {
   "cell_type": "code",
   "execution_count": 6,
   "id": "66dd29f1-24ce-4065-999f-3136c1f31a71",
   "metadata": {},
   "outputs": [
    {
     "data": {
      "text/html": [
       "<table border=\"1\" class=\"dataframe\">\n",
       "    <thead>\n",
       "        <tr>\n",
       "            <th>candidatevotes</th> <th>county</th> <th>party</th>\n",
       "        </tr>\n",
       "    </thead>\n",
       "    <tbody>\n",
       "        <tr>\n",
       "            <td>6763          </td> <td>ABBEVILLE, SC</td> <td>REPUBLICAN</td>\n",
       "        </tr>\n",
       "        <tr>\n",
       "            <td>21162         </td> <td>ACADIA, LA   </td> <td>REPUBLICAN</td>\n",
       "        </tr>\n",
       "        <tr>\n",
       "            <td>8583          </td> <td>ACCOMACK, VA </td> <td>REPUBLICAN</td>\n",
       "        </tr>\n",
       "        <tr>\n",
       "            <td>93752         </td> <td>ADA, ID      </td> <td>REPUBLICAN</td>\n",
       "        </tr>\n",
       "        <tr>\n",
       "            <td>2461          </td> <td>ADAIR, IA    </td> <td>REPUBLICAN</td>\n",
       "        </tr>\n",
       "        <tr>\n",
       "            <td>6637          </td> <td>ADAIR, KY    </td> <td>REPUBLICAN</td>\n",
       "        </tr>\n",
       "        <tr>\n",
       "            <td>6030          </td> <td>ADAIR, MO    </td> <td>REPUBLICAN</td>\n",
       "        </tr>\n",
       "        <tr>\n",
       "            <td>4787          </td> <td>ADAIR, OK    </td> <td>REPUBLICAN</td>\n",
       "        </tr>\n",
       "        <tr>\n",
       "            <td>96558         </td> <td>ADAMS, CO    </td> <td>DEMOCRAT  </td>\n",
       "        </tr>\n",
       "        <tr>\n",
       "            <td>1395          </td> <td>ADAMS, IA    </td> <td>REPUBLICAN</td>\n",
       "        </tr>\n",
       "    </tbody>\n",
       "</table>\n",
       "<p>... (3143 rows omitted)</p>"
      ],
      "text/plain": [
       "candidatevotes | county        | party\n",
       "6763           | ABBEVILLE, SC | REPUBLICAN\n",
       "21162          | ACADIA, LA    | REPUBLICAN\n",
       "8583           | ACCOMACK, VA  | REPUBLICAN\n",
       "93752          | ADA, ID       | REPUBLICAN\n",
       "2461           | ADAIR, IA     | REPUBLICAN\n",
       "6637           | ADAIR, KY     | REPUBLICAN\n",
       "6030           | ADAIR, MO     | REPUBLICAN\n",
       "4787           | ADAIR, OK     | REPUBLICAN\n",
       "96558          | ADAMS, CO     | DEMOCRAT\n",
       "1395           | ADAMS, IA     | REPUBLICAN\n",
       "... (3143 rows omitted)"
      ]
     },
     "execution_count": 6,
     "metadata": {},
     "output_type": "execute_result"
    }
   ],
   "source": [
    "from datascience import *\n",
    "from urllib.request import urlopen\n",
    "import numpy as np\n",
    "%matplotlib inline\n",
    "import pandas \n",
    "import matplotlib \n",
    "import matplotlib.pyplot as plots \n",
    "import matplotlib.pyplot as plt\n",
    "\n",
    "party_table_all_years = pandas.read_csv(\"countypres_2000-2020.csv\")\n",
    "party_table_all_years[\"county\"] = party_table_all_years[\"county_name\"] + \", \" + party_table_all_years[\"state_po\"]\n",
    "party_table_2016 = party_table_all_years[party_table_all_years[\"year\"].eq(2016)]\n",
    "party_table_final = party_table_2016[[\"candidatevotes\",\"county\",\"party\"]]\n",
    "max_rows = party_table_final.groupby([\"county\"])[\"candidatevotes\"].transform(max) == party_table_final[\"candidatevotes\"]\n",
    "party_table = party_table_final[max_rows]\n",
    "party_table1 = Table.from_df(party_table)\n",
    "party_table1.sort(\"county\", descending = False)"
   ]
  },
  {
   "cell_type": "code",
   "execution_count": 33,
   "id": "b120901f-b9f4-4ea2-9f0f-65084f523fb1",
   "metadata": {},
   "outputs": [
    {
     "data": {
      "text/html": [
       "<table border=\"1\" class=\"dataframe\">\n",
       "    <thead>\n",
       "        <tr>\n",
       "            <th>County</th> <th>Total Emissions sum</th>\n",
       "        </tr>\n",
       "    </thead>\n",
       "    <tbody>\n",
       "        <tr>\n",
       "            <td>ACADIA, LA   </td> <td>2.98831e+06        </td>\n",
       "        </tr>\n",
       "        <tr>\n",
       "            <td>ACCOMACK , VA</td> <td>89747              </td>\n",
       "        </tr>\n",
       "        <tr>\n",
       "            <td>ACCOMACK, VA </td> <td>79438.7            </td>\n",
       "        </tr>\n",
       "        <tr>\n",
       "            <td>ADA , ID     </td> <td>195663             </td>\n",
       "        </tr>\n",
       "        <tr>\n",
       "            <td>ADAMS , CO   </td> <td>1.06556e+06        </td>\n",
       "        </tr>\n",
       "        <tr>\n",
       "            <td>ADAMS , IA   </td> <td>109445             </td>\n",
       "        </tr>\n",
       "        <tr>\n",
       "            <td>ADAMS , IL   </td> <td>131130             </td>\n",
       "        </tr>\n",
       "        <tr>\n",
       "            <td>ADAMS , IN   </td> <td>74825.5            </td>\n",
       "        </tr>\n",
       "        <tr>\n",
       "            <td>ADAMS , MS   </td> <td>84152.2            </td>\n",
       "        </tr>\n",
       "        <tr>\n",
       "            <td>ADAMS , NE   </td> <td>359999             </td>\n",
       "        </tr>\n",
       "    </tbody>\n",
       "</table>\n",
       "<p>... (2890 rows omitted)</p>"
      ],
      "text/plain": [
       "County        | Total Emissions sum\n",
       "ACADIA, LA    | 2.98831e+06\n",
       "ACCOMACK , VA | 89747\n",
       "ACCOMACK, VA  | 79438.7\n",
       "ADA , ID      | 195663\n",
       "ADAMS , CO    | 1.06556e+06\n",
       "ADAMS , IA    | 109445\n",
       "ADAMS , IL    | 131130\n",
       "ADAMS , IN    | 74825.5\n",
       "ADAMS , MS    | 84152.2\n",
       "ADAMS , NE    | 359999\n",
       "... (2890 rows omitted)"
      ]
     },
     "execution_count": 33,
     "metadata": {},
     "output_type": "execute_result"
    }
   ],
   "source": [
    "emission = Table.read_table(\"cdcbyyear.csv\")\n",
    "emission_columns = emission.select(\"State\",\"County\",\"2016 Total reported direct emissions\")\n",
    "\n",
    "\n",
    "\"\"\"def remove_county(pay_string):\n",
    "    return (pay_string.strip(\"COUNTY\"))\n",
    "function_emission = emission_columns.apply(remove_county,\"COUNTY\")\n",
    "function_emission\n",
    "new_table = emission_columns.with_column(\"minus county\", function_emission)\n",
    "new_table\"\"\"\n",
    "\n",
    "emission_pandas = Table.to_df(emission_columns)\n",
    "emission_pandas[\"County\"] = emission_pandas[\"County\"].str.upper()\n",
    "emission_pandas[\"County\"] = emission_pandas[\"County\"].str.replace(\"COUNTY\",\"\")\n",
    "emission_pandas[\"County\"] = emission_pandas[\"County\"].str.replace(\" PARISH\",\"\")\n",
    "emission_pandas[\"2016 Total reported direct emissions\"] = emission_pandas[\"2016 Total reported direct emissions\"].str.replace(\",\",\"\")\n",
    "emission_pandas[\"2016 Total reported direct emissions\"] = emission_pandas[\"2016 Total reported direct emissions\"].str.replace(\"nan\",\"0\")\n",
    "emission_pandas[\"County\"] = emission_pandas[\"County\"] + \", \" + emission_pandas[\"State\"]\n",
    "emission_pandas\n",
    "emission_numpy = Table.from_df(emission_pandas)\n",
    "emission_table_final = emission_numpy.drop(\"State\")\n",
    "total_emissions = make_array()\n",
    "def convert(string):\n",
    "    float2 = float(string)\n",
    "    return float2\n",
    "for i in np.arange(0,len(emission_table_final.column(\"2016 Total reported direct emissions\"))):\n",
    "    total_emissions = np.append(total_emissions, convert(emission_table_final.column(\"2016 Total reported direct emissions\").item(i)))\n",
    "final_emissions_table = emission_table_final.with_column(\n",
    "    \"Total Emissions\",total_emissions\n",
    "). drop(\"2016 Total reported direct emissions\")\n",
    "final_emissions_table.sort(\"County\", descending = False)\n",
    "final_emissions_table = final_emissions_table.group(\"County\", np.sum)\n",
    "final_emissions_table"
   ]
  },
  {
   "cell_type": "code",
   "execution_count": 37,
   "id": "e16bc49c-a17f-47d2-9cb6-6b378611a3e7",
   "metadata": {},
   "outputs": [
    {
     "data": {
      "text/html": [
       "<table border=\"1\" class=\"dataframe\">\n",
       "    <thead>\n",
       "        <tr>\n",
       "            <th>County</th> <th>Total Emissions sum</th> <th>candidatevotes</th> <th>party</th> <th>Year</th>\n",
       "        </tr>\n",
       "    </thead>\n",
       "    <tbody>\n",
       "        <tr>\n",
       "            <td>ACADIA, LA  </td> <td>2.98831e+06        </td> <td>21162         </td> <td>REPUBLICAN</td> <td>2016</td>\n",
       "        </tr>\n",
       "        <tr>\n",
       "            <td>ACCOMACK, VA</td> <td>79438.7            </td> <td>8583          </td> <td>REPUBLICAN</td> <td>2016</td>\n",
       "        </tr>\n",
       "        <tr>\n",
       "            <td>ADAMS, CO   </td> <td>3.38113e+06        </td> <td>96558         </td> <td>DEMOCRAT  </td> <td>2016</td>\n",
       "        </tr>\n",
       "        <tr>\n",
       "            <td>ADAMS, MS   </td> <td>0                  </td> <td>7757          </td> <td>DEMOCRAT  </td> <td>2016</td>\n",
       "        </tr>\n",
       "        <tr>\n",
       "            <td>ADAMS, NE   </td> <td>1.33529e+06        </td> <td>9287          </td> <td>REPUBLICAN</td> <td>2016</td>\n",
       "        </tr>\n",
       "        <tr>\n",
       "            <td>ADAMS, OH   </td> <td>1.4238e+07         </td> <td>8659          </td> <td>REPUBLICAN</td> <td>2016</td>\n",
       "        </tr>\n",
       "        <tr>\n",
       "            <td>ADAMS, PA   </td> <td>1.77382e+06        </td> <td>31423         </td> <td>REPUBLICAN</td> <td>2016</td>\n",
       "        </tr>\n",
       "        <tr>\n",
       "            <td>AIKEN, SC   </td> <td>938820             </td> <td>46025         </td> <td>REPUBLICAN</td> <td>2016</td>\n",
       "        </tr>\n",
       "        <tr>\n",
       "            <td>ALACHUA, FL </td> <td>1.30259e+06        </td> <td>75820         </td> <td>DEMOCRAT  </td> <td>2016</td>\n",
       "        </tr>\n",
       "        <tr>\n",
       "            <td>ALAMEDA, CA </td> <td>435135             </td> <td>514842        </td> <td>DEMOCRAT  </td> <td>2016</td>\n",
       "        </tr>\n",
       "    </tbody>\n",
       "</table>\n",
       "<p>... (1032 rows omitted)</p>"
      ],
      "text/plain": [
       "County       | Total Emissions sum | candidatevotes | party      | Year\n",
       "ACADIA, LA   | 2.98831e+06         | 21162          | REPUBLICAN | 2016\n",
       "ACCOMACK, VA | 79438.7             | 8583           | REPUBLICAN | 2016\n",
       "ADAMS, CO    | 3.38113e+06         | 96558          | DEMOCRAT   | 2016\n",
       "ADAMS, MS    | 0                   | 7757           | DEMOCRAT   | 2016\n",
       "ADAMS, NE    | 1.33529e+06         | 9287           | REPUBLICAN | 2016\n",
       "ADAMS, OH    | 1.4238e+07          | 8659           | REPUBLICAN | 2016\n",
       "ADAMS, PA    | 1.77382e+06         | 31423          | REPUBLICAN | 2016\n",
       "AIKEN, SC    | 938820              | 46025          | REPUBLICAN | 2016\n",
       "ALACHUA, FL  | 1.30259e+06         | 75820          | DEMOCRAT   | 2016\n",
       "ALAMEDA, CA  | 435135              | 514842         | DEMOCRAT   | 2016\n",
       "... (1032 rows omitted)"
      ]
     },
     "execution_count": 37,
     "metadata": {},
     "output_type": "execute_result"
    }
   ],
   "source": [
    "emissions_party_table = final_emissions_table.join(\"County\",party_table1,\"county\")\n",
    "final_2016 = emissions_party_table.with_column(\"Year\", np.repeat(2016, emissions_party_table.num_rows))\n",
    "final_2016"
   ]
  },
  {
   "cell_type": "code",
   "execution_count": 38,
   "id": "a98d6bf5-6a1c-4342-a74d-fd47e744f7e4",
   "metadata": {},
   "outputs": [],
   "source": [
    "final_2016.to_df().to_csv('final_2016.csv', index = False)"
   ]
  },
  {
   "cell_type": "code",
   "execution_count": 40,
   "id": "88170e59-4900-464b-a773-d49a87a1ce10",
   "metadata": {},
   "outputs": [
    {
     "data": {
      "text/plain": [
       "Text(0.5, 1.0, 'Average Total Emissions Per County, Stratified by Political Party')"
      ]
     },
     "execution_count": 40,
     "metadata": {},
     "output_type": "execute_result"
    },
    {
     "data": {
      "image/png": "[encoded data removed]",
      "text/plain": [
       "<Figure size 432x288 with 1 Axes>"
      ]
     },
     "metadata": {
      "needs_background": "light"
     },
     "output_type": "display_data"
    }
   ],
   "source": [
    "emission_plot = emissions_party_table.select(\"party\",\"Total Emissions\").group(\"party\",np.average)\n",
    "emission_plot.barh(\"party\",\"Total Emissions average\")\n",
    "plots.title(\"Average Total Emissions Per County, Stratified by Political Party\")  "
   ]
  },
  {
   "cell_type": "code",
   "execution_count": 41,
   "id": "d0b8d6ce-4714-4c5e-94c9-f471586a0be2",
   "metadata": {},
   "outputs": [
    {
     "data": {
      "image/png": "[encoded data removed]",
      "text/plain": [
       "<Figure size 648x504 with 1 Axes>"
      ]
     },
     "metadata": {
      "needs_background": "light"
     },
     "output_type": "display_data"
    }
   ],
   "source": [
    "plt.figure(figsize=(9,7))\n",
    "\n",
    "party = emission_plot.column(\"party\")\n",
    "emissions = emission_plot.column(\"Total Emissions average\")\n",
    "\n",
    "plt.bar(party, emissions, color=[\"blue\", \"red\"])\n",
    "plots.title(\"Average Total Emissions Per County, Stratified by Political Party\")\n",
    "\n",
    "plt.show()"
   ]
  },
  {
   "cell_type": "code",
   "execution_count": null,
   "id": "846ef4c5-8db6-482c-9986-81c939eb4309",
   "metadata": {},
   "outputs": [],
   "source": []
  },
  {
   "cell_type": "code",
   "execution_count": null,
   "id": "398dc9ce-7c67-4045-ac48-d34514d220ca",
   "metadata": {},
   "outputs": [],
   "source": []
  }
 ],
 "metadata": {
  "kernelspec": {
   "display_name": "Python 3 (ipykernel)",
   "language": "python",
   "name": "python3"
  },
  "language_info": {
   "codemirror_mode": {
    "name": "ipython",
    "version": 3
   },
   "file_extension": ".py",
   "mimetype": "text/x-python",
   "name": "python",
   "nbconvert_exporter": "python",
   "pygments_lexer": "ipython3",
   "version": "3.9.7"
  }
 },
 "nbformat": 4,
 "nbformat_minor": 5
}
